{
  "nbformat": 4,
  "nbformat_minor": 0,
  "metadata": {
    "colab": {
      "name": "Unit 2.ipynb",
      "provenance": [],
      "collapsed_sections": [],
      "toc_visible": true
    },
    "kernelspec": {
      "name": "python3",
      "display_name": "Python 3"
    },
    "language_info": {
      "name": "python"
    }
  },
  "cells": [
    {
      "cell_type": "markdown",
      "metadata": {
        "id": "32-8q8zGR84r"
      },
      "source": [
        "# **Lesson 2**: Intro to Python\n"
      ]
    },
    {
      "cell_type": "code",
      "metadata": {
        "cellView": "code",
        "id": "nuz5GECWSFKV"
      },
      "source": [
        "\n",
        "\n",
        "#What is Python and why is it useful?\n",
        "'''\n",
        "Python is a dynamically-typed language, focused on reliability and productivity. \n",
        "This language is particulary useful for data analytics since it can work on large datasets easily.\n",
        "The libraries make for easy use of Machine Learning and web dev, among other uses.\n",
        "'''\n",
        "\n",
        "#Are the following variable names allowed in python?\n",
        "'''\n",
        "1_message - no, cannot start with a number\n",
        "Greeting_message - yes\n",
        "Message_1 - yes\n",
        "First name - no, spaces not allowed\n",
        "Full_name - yes\n",
        "'''\n",
        "\n",
        "#Create a variable that holds the string “hello there!”\n",
        "Message = 'hello there!'\n",
        "\n",
        "#Create a variable for first name, last name and an email extension.  \n",
        "#Concatenating all three together to form an email address.\n",
        "\n",
        "first = \"dee\"\n",
        "last = \"slawotsky\"\n",
        "extension = \"gmail.com\"\n",
        "email = first + last + '@' + extension\n",
        "\n",
        "#Store someone you know name in a variable called name.  Print their name in lower and uppercase using a method.\n",
        "name = 'Arthur El'\n",
        "print(name.lower())\n",
        "print(name.upper())\n",
        "\n",
        "#Using a variable, ask your friend if they want to hang out on the 15th of the month.  \n",
        "#For example, “Do you want to hang out on the 15th of this month?”  You should have to convert the number to a string.\n",
        "\n",
        "num = 15\n",
        "print(\"Do you wanna hang on the \" + str(num) + \"th of this month? :D\")\n",
        "\n"
      ],
      "execution_count": null,
      "outputs": []
    },
    {
      "cell_type": "markdown",
      "metadata": {
        "id": "lzmlqLLUVZXI"
      },
      "source": [
        "# **Lesson 3**: Lists"
      ]
    },
    {
      "cell_type": "code",
      "metadata": {
        "id": "7J2gH1VcVj06"
      },
      "source": [
        "#Create a list of 5 of your favorite tv shows.  \n",
        "shows = ['TVD', 'Sabrina', 'Gossip Girl', 'Pretty Little Liars', 'Ginny and Georgia']\n",
        "\n",
        "#Print the list in its original order.\n",
        "print(shows)\n",
        "\n",
        "#Use the sorted() function to print the list in alphabetical order.  How is sorted() different from sort()?\n",
        "print(sorted(shows)) \n",
        "'''\n",
        "sort modifies the list itself to be sorted, \n",
        "but If you want to keep the original list unchanged use the sorted() function to create a new sorted list\n",
        "''' \n",
        "#Print out your original list.\n",
        "print(shows)\n",
        "\n",
        "#Used sorted() to print your list in reverse alphabetical order.\n",
        "print(sorted(shows, reverse=True))\n",
        "\n",
        "#Create a message indicating how many favorite TV shows you have – use the len() function.\n",
        "print(\"there are \" + str(len(shows)) + \" favourite shows\")"
      ],
      "execution_count": null,
      "outputs": []
    },
    {
      "cell_type": "markdown",
      "metadata": {
        "id": "E3zOyylwW27h"
      },
      "source": [
        "# **Lesson 4**: Looping"
      ]
    },
    {
      "cell_type": "code",
      "metadata": {
        "id": "0abTUsfZW6FP"
      },
      "source": [
        "#Create a list that holds 5 data variables. \n",
        "list = ['var1', 'var2', 'var3', 'var4', 'var5']\n",
        "\n",
        "#Print out those variables by using a for loop.\n",
        "for i in list:\n",
        "  print(i)\n",
        "\n",
        "#Modify your for loop to add a message to your for loop.\n",
        "for i in list:\n",
        "  print('One of the variables is ' + i)\n",
        "\n",
        "#Use a for loop to print even numbers from 1-20.\n",
        "for i in range(2, 21, 2):\n",
        "  print(i)\n",
        "\n",
        "#Sort your list in alphabetic order.\n",
        "list.sort()\n",
        "\n",
        "#Print out the first three elements of your list.\n",
        "for i in list[:3]:\n",
        "  print(i)\n",
        "\n",
        "#Create a loop to print the last 2 elements of your list.\n",
        "for i in list[-2:]:\n",
        "  print(i)"
      ],
      "execution_count": null,
      "outputs": []
    },
    {
      "cell_type": "markdown",
      "metadata": {
        "id": "Q0oGb_zhqKyi"
      },
      "source": [
        "# **Lesson 5**: If Statements"
      ]
    },
    {
      "cell_type": "code",
      "metadata": {
        "id": "fomXxBi2qOQK"
      },
      "source": [
        "#Make a list of 5 or more usernames, including an admin account.  Imagine you are writing code that will welcome people to your application on login. Loop through the list and print your greeting.\n",
        "#a. If the admin account logs in, give them a special greeting.  They’re the admin, after all!\n",
        "#b. Other users can get the generic greeting\n",
        "\n",
        "list = ['userA', 'userGigi', 'Charlii', 'admin', 'Yoyo123']\n",
        "for x in list:\n",
        "  if (x == \"admin\"):\n",
        "    print (\"welcome Admin, take control\")\n",
        "  else:\n",
        "    print (\"welcome \" + x + \", enjoy the site!\")\n",
        "\n",
        "#Store numbers 1-10 in a list\n",
        "#Loop through the list\n",
        "#Use an if-elif-else chain inside your loop to print the ordinal ending for each number – for example – 1st, 2nd, 3rd … etc.\n",
        "\n",
        "list = [1,2,3,4,5,6,7,8,9,10]\n",
        "for i in list:\n",
        "  if (i == 1):\n",
        "    print(\"1st\")\n",
        "  elif (i == 2):\n",
        "    print(\"2nd\")\n",
        "  elif (i == 3):\n",
        "    print(\"3rd\")\n",
        "  else:\n",
        "    print (str(i) + \"th\")"
      ],
      "execution_count": null,
      "outputs": []
    },
    {
      "cell_type": "markdown",
      "metadata": {
        "id": "ly679VMrs_I0"
      },
      "source": [
        "# **Lesson 6**: Dictionaries "
      ]
    },
    {
      "cell_type": "code",
      "metadata": {
        "id": "_mQBJjvitDgd"
      },
      "source": [
        "#Create a simple dictionary that stores 2 variables, for example: first and last name.\n",
        "Names = {}\n",
        "Names['first_name'] = 'Arthur'\n",
        "Names['last_name'] = 'El'\n",
        "\n",
        "#Print out those variables stored in your previous dictionary. \n",
        "print (Names)\n",
        "print(Names['first_name'] + ' ' + Names['last_name'])\n",
        "\n",
        "#Add a message to those variables on printing: for example: “Hello, firstname lastname!”\n",
        "print('Hi there, ' + Names['first_name'] + ' ' + Names['last_name'] + ', You are pretty cool! :)')\n",
        "\n",
        "#Create a dictionary that holds 2 key: value pairs:\n",
        "#Look through your dictionary and print each pair,\n",
        "Names2 = { 'First name':'Arthur', 'Last name':'El'}\n",
        "for k, v in Names2.items():\n",
        "  print(k + \": \" + v)\n",
        "\n",
        "#Create a nested dictionary containing three dictionaries – these dictionaries could be anything (favorite pets, travel locations, etc.)\n",
        "#Loop through the dictionaries and print a message for each.\n",
        "Pets = {'cat': {'name': 'Lili', 'age': '2', 'sex': 'm'},\n",
        "         'dog': {'name': 'dogah', 'age': '5', 'sex': 'm'},\n",
        "          'hamster': {'name': 'RAT', 'age': '1', 'sex': 'f'}}\n",
        "\n",
        "for key, value in Pets.items():\n",
        "\tprint(\"\\nAnimal:\", key)\n",
        "\n",
        "\tfor k, v in value.items():\n",
        "\t\tprint(k + \":\", value[k])\n",
        "\n"
      ],
      "execution_count": null,
      "outputs": []
    },
    {
      "cell_type": "markdown",
      "metadata": {
        "id": "GvLjcO6qxnWe"
      },
      "source": [
        "# Project: **Rock, Paper, Scissors**"
      ]
    },
    {
      "cell_type": "code",
      "metadata": {
        "id": "T-ATtWhGxmMF"
      },
      "source": [
        "while(True):\n",
        "    user1 = input(\"Enter Rock, Paper, or Scissors \").lower()\n",
        "    user2 = input(\"Enter Rock, Paper, or Scissors \").lower()\n",
        "    if ((user1 == \"rock\" or user1 == \"paper\" or user1 == \"scissors\") and (user2 == \"rock\" or user2 == \"paper\" or user2 == \"scissors\") and  user1 == user2):\n",
        "        print (\"Draw. input 1 to try again, any other number to quit\")\n",
        "        x = input()\n",
        "    \n",
        "    elif ((user1 == \"rock\" and user2 == \"scissors\") or (user1 == \"scissors\" and user2 == \"paper\") or ((user1) == \"paper\" and user2 == \"rock\")):\n",
        "        print (\"User 1 Won. input 1 to try again, any other number to quit\")\n",
        "        x = input()\n",
        "\n",
        "    elif ((user2 == \"rock\" and user1 == \"scissors\") or (user2 == \"scissors\" and user1 == \"paper\") or (user2 == \"paper\" and user1 == \"rock\")):\n",
        "        print (\"User 2 won. input 1 to try again, any other number to quit\")\n",
        "        x = input()\n",
        "\n",
        "    else:\n",
        "        print (\"wrong inputs, do you want to try again? input 1 to try again, any other number to quit\")\n",
        "        x = input()\n",
        "     \n",
        "    if (int(x)!=1):\n",
        "        break"
      ],
      "execution_count": null,
      "outputs": []
    },
    {
      "cell_type": "markdown",
      "metadata": {
        "id": "KZaj5vWCx0iu"
      },
      "source": [
        "# Project: **Odd or Even**"
      ]
    },
    {
      "cell_type": "code",
      "metadata": {
        "id": "Q8l2FjzYx4yT"
      },
      "source": [
        "#Ask the user for a number. Depending on whether the number is even or odd, print out an appropriate message to the user.\n",
        "#Hint: how does an even / odd number react differently when divided by 2?\n",
        "\n",
        "x = int(input(\"Enter a number:\"))\n",
        "if x % 2 == 0:\n",
        "  print (\"it's even\")\n",
        "else:\n",
        "  print (\"it's odd\")\n",
        "\n",
        "#If the number is a multiple of 4, print out a different message.\n",
        "x = int(input(\"Enter a number:\"))\n",
        "if x % 4 == 0:\n",
        "  print (\"it's even and multiple of 4\")\n",
        "elif x % 2 == 0:\n",
        "  print (\"it's even\")\n",
        "else:\n",
        "  print (\"it's odd\")\n",
        "\n",
        "#Ask the user for two numbers: one number to check (call it num) and one number to divide by (check). \n",
        "#If check divides evenly into num, tell that to the user. If not, print a different appropriate message.\n",
        "print(\"Enter number 1:\")\n",
        "num = int(input())\n",
        "print(\"Enter number 2:\")\n",
        "check = int(input())\n",
        "if num % check == 0:\n",
        "  print (\"it's divided evenly\")\n",
        "else:\n",
        "   print (\"it doesn't divide evenly\")"
      ],
      "execution_count": null,
      "outputs": []
    }
  ]
}